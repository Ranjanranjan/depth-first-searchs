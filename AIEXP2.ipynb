{
  "nbformat": 4,
  "nbformat_minor": 0,
  "metadata": {
    "colab": {
      "provenance": []
    },
    "kernelspec": {
      "name": "python3",
      "display_name": "Python 3"
    },
    "language_info": {
      "name": "python"
    }
  },
  "cells": [
    {
      "cell_type": "code",
      "execution_count": 1,
      "metadata": {
        "colab": {
          "base_uri": "https://localhost:8080/"
        },
        "id": "22jAkQ2UWUvd",
        "outputId": "aa83f655-bfa9-4a31-a8fc-3c9d6f4d5ff5"
      },
      "outputs": [
        {
          "output_type": "stream",
          "name": "stdout",
          "text": [
            "Enter number of nodes and edges (n e): 5 6\n",
            "Enter edges (u v):\n",
            "A B\n",
            "A C\n",
            "B D\n",
            "B E\n",
            "C E\n",
            "D E\n",
            "Graph: {'A': ['B', 'C'], 'B': ['A', 'D', 'E'], 'C': ['A', 'E'], 'D': ['B', 'E'], 'E': ['B', 'C', 'D']}\n",
            "DFS Traversal Path: ['A', 'B', 'D', 'E', 'C']\n"
          ]
        }
      ],
      "source": [
        "from collections import defaultdict\n",
        "def dfs(graph, start, visited, path):\n",
        "    path.append(start)\n",
        "    visited[start] = True\n",
        "    for neighbour in graph[start]:\n",
        "        if not visited[neighbour]:\n",
        "            dfs(graph, neighbour, visited, path)\n",
        "    return path\n",
        "\n",
        "graph = defaultdict(list)\n",
        "n, e = map(int, input(\"Enter number of nodes and edges (n e): \").split())\n",
        "print(\"Enter edges (u v):\")\n",
        "for i in range(e):\n",
        "    u, v = input().split()\n",
        "    graph[u].append(v)\n",
        "    graph[v].append(u)\n",
        "print(\"Graph:\", dict(graph))\n",
        "start = 'A'\n",
        "visited = defaultdict(bool)\n",
        "path = []\n",
        "traversed_path = dfs(graph, start, visited, path)\n",
        "print(\"DFS Traversal Path:\", traversed_path)"
      ]
    }
  ]
}